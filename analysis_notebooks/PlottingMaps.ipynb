{
 "cells": [
  {
   "cell_type": "code",
   "execution_count": 1,
   "id": "417d9ae9",
   "metadata": {},
   "outputs": [
    {
     "ename": "ImportError",
     "evalue": "dlopen(/opt/homebrew/lib/python3.9/site-packages/fiona/ogrext.cpython-39-darwin.so, 0x0002): Library not loaded: /opt/homebrew/opt/gdal/lib/libgdal.31.dylib\n  Referenced from: <4C8E2433-AA31-3D2F-BCDC-F4FFF503B2A5> /opt/homebrew/lib/python3.9/site-packages/fiona/ogrext.cpython-39-darwin.so\n  Reason: tried: '/opt/homebrew/opt/gdal/lib/libgdal.31.dylib' (no such file), '/System/Volumes/Preboot/Cryptexes/OS/opt/homebrew/opt/gdal/lib/libgdal.31.dylib' (no such file), '/opt/homebrew/opt/gdal/lib/libgdal.31.dylib' (no such file), '/usr/local/lib/libgdal.31.dylib' (no such file), '/usr/lib/libgdal.31.dylib' (no such file, not in dyld cache), '/opt/homebrew/Cellar/gdal/3.6.4_7/lib/libgdal.31.dylib' (no such file), '/System/Volumes/Preboot/Cryptexes/OS/opt/homebrew/Cellar/gdal/3.6.4_7/lib/libgdal.31.dylib' (no such file), '/opt/homebrew/Cellar/gdal/3.6.4_7/lib/libgdal.31.dylib' (no such file), '/usr/local/lib/libgdal.31.dylib' (no such file), '/usr/lib/libgdal.31.dylib' (no such file, not in dyld cache)",
     "output_type": "error",
     "traceback": [
      "\u001b[0;31m---------------------------------------------------------------------------\u001b[0m",
      "\u001b[0;31mImportError\u001b[0m                               Traceback (most recent call last)",
      "Input \u001b[0;32mIn [1]\u001b[0m, in \u001b[0;36m<cell line: 8>\u001b[0;34m()\u001b[0m\n\u001b[1;32m      6\u001b[0m \u001b[38;5;28;01mimport\u001b[39;00m \u001b[38;5;21;01mjson\u001b[39;00m\n\u001b[1;32m      7\u001b[0m \u001b[38;5;28;01mimport\u001b[39;00m \u001b[38;5;21;01mpowerlaw\u001b[39;00m\n\u001b[0;32m----> 8\u001b[0m \u001b[38;5;28;01mimport\u001b[39;00m \u001b[38;5;21;01mfiona\u001b[39;00m\n",
      "File \u001b[0;32m/opt/homebrew/lib/python3.9/site-packages/fiona/__init__.py:86\u001b[0m, in \u001b[0;36m<module>\u001b[0;34m\u001b[0m\n\u001b[1;32m     84\u001b[0m \u001b[38;5;28;01mimport\u001b[39;00m \u001b[38;5;21;01mfiona\u001b[39;00m\u001b[38;5;21;01m.\u001b[39;00m\u001b[38;5;21;01m_loading\u001b[39;00m\n\u001b[1;32m     85\u001b[0m \u001b[38;5;28;01mwith\u001b[39;00m fiona\u001b[38;5;241m.\u001b[39m_loading\u001b[38;5;241m.\u001b[39madd_gdal_dll_directories():\n\u001b[0;32m---> 86\u001b[0m     \u001b[38;5;28;01mfrom\u001b[39;00m \u001b[38;5;21;01mfiona\u001b[39;00m\u001b[38;5;21;01m.\u001b[39;00m\u001b[38;5;21;01mcollection\u001b[39;00m \u001b[38;5;28;01mimport\u001b[39;00m BytesCollection, Collection\n\u001b[1;32m     87\u001b[0m     \u001b[38;5;28;01mfrom\u001b[39;00m \u001b[38;5;21;01mfiona\u001b[39;00m\u001b[38;5;21;01m.\u001b[39;00m\u001b[38;5;21;01mdrvsupport\u001b[39;00m \u001b[38;5;28;01mimport\u001b[39;00m supported_drivers\n\u001b[1;32m     88\u001b[0m     \u001b[38;5;28;01mfrom\u001b[39;00m \u001b[38;5;21;01mfiona\u001b[39;00m\u001b[38;5;21;01m.\u001b[39;00m\u001b[38;5;21;01menv\u001b[39;00m \u001b[38;5;28;01mimport\u001b[39;00m ensure_env_with_credentials, Env\n",
      "File \u001b[0;32m/opt/homebrew/lib/python3.9/site-packages/fiona/collection.py:11\u001b[0m, in \u001b[0;36m<module>\u001b[0;34m\u001b[0m\n\u001b[1;32m      9\u001b[0m \u001b[38;5;28;01mwith\u001b[39;00m fiona\u001b[38;5;241m.\u001b[39m_loading\u001b[38;5;241m.\u001b[39madd_gdal_dll_directories():\n\u001b[1;32m     10\u001b[0m     \u001b[38;5;28;01mfrom\u001b[39;00m \u001b[38;5;21;01mfiona\u001b[39;00m \u001b[38;5;28;01mimport\u001b[39;00m compat, vfs\n\u001b[0;32m---> 11\u001b[0m     \u001b[38;5;28;01mfrom\u001b[39;00m \u001b[38;5;21;01mfiona\u001b[39;00m\u001b[38;5;21;01m.\u001b[39;00m\u001b[38;5;21;01mogrext\u001b[39;00m \u001b[38;5;28;01mimport\u001b[39;00m Iterator, ItemsIterator, KeysIterator\n\u001b[1;32m     12\u001b[0m     \u001b[38;5;28;01mfrom\u001b[39;00m \u001b[38;5;21;01mfiona\u001b[39;00m\u001b[38;5;21;01m.\u001b[39;00m\u001b[38;5;21;01mogrext\u001b[39;00m \u001b[38;5;28;01mimport\u001b[39;00m Session, WritingSession\n\u001b[1;32m     13\u001b[0m     \u001b[38;5;28;01mfrom\u001b[39;00m \u001b[38;5;21;01mfiona\u001b[39;00m\u001b[38;5;21;01m.\u001b[39;00m\u001b[38;5;21;01mogrext\u001b[39;00m \u001b[38;5;28;01mimport\u001b[39;00m buffer_to_virtual_file, remove_virtual_file, GEOMETRY_TYPES\n",
      "\u001b[0;31mImportError\u001b[0m: dlopen(/opt/homebrew/lib/python3.9/site-packages/fiona/ogrext.cpython-39-darwin.so, 0x0002): Library not loaded: /opt/homebrew/opt/gdal/lib/libgdal.31.dylib\n  Referenced from: <4C8E2433-AA31-3D2F-BCDC-F4FFF503B2A5> /opt/homebrew/lib/python3.9/site-packages/fiona/ogrext.cpython-39-darwin.so\n  Reason: tried: '/opt/homebrew/opt/gdal/lib/libgdal.31.dylib' (no such file), '/System/Volumes/Preboot/Cryptexes/OS/opt/homebrew/opt/gdal/lib/libgdal.31.dylib' (no such file), '/opt/homebrew/opt/gdal/lib/libgdal.31.dylib' (no such file), '/usr/local/lib/libgdal.31.dylib' (no such file), '/usr/lib/libgdal.31.dylib' (no such file, not in dyld cache), '/opt/homebrew/Cellar/gdal/3.6.4_7/lib/libgdal.31.dylib' (no such file), '/System/Volumes/Preboot/Cryptexes/OS/opt/homebrew/Cellar/gdal/3.6.4_7/lib/libgdal.31.dylib' (no such file), '/opt/homebrew/Cellar/gdal/3.6.4_7/lib/libgdal.31.dylib' (no such file), '/usr/local/lib/libgdal.31.dylib' (no such file), '/usr/lib/libgdal.31.dylib' (no such file, not in dyld cache)"
     ]
    }
   ],
   "source": [
    "import pandas as pd\n",
    "from matplotlib import pyplot as plt\n",
    "import numpy as np\n",
    "import math\n",
    "import seaborn as sns\n",
    "import json\n",
    "import powerlaw\n",
    "import fiona\n",
    "#import geopandas as gdp"
   ]
  },
  {
   "cell_type": "code",
   "execution_count": null,
   "id": "0baf5b5b",
   "metadata": {},
   "outputs": [],
   "source": [
    "import scipy"
   ]
  },
  {
   "cell_type": "code",
   "execution_count": null,
   "id": "be1004c4",
   "metadata": {},
   "outputs": [],
   "source": [
    "%matplotlib inline"
   ]
  },
  {
   "cell_type": "code",
   "execution_count": null,
   "id": "823cb8fc",
   "metadata": {},
   "outputs": [],
   "source": []
  },
  {
   "cell_type": "code",
   "execution_count": null,
   "id": "c8ba7074",
   "metadata": {},
   "outputs": [],
   "source": [
    "geo_df = gdp.read_file('geo_data/Parishes_and_Non_Civil_Parished_Areas_(December_2021)_EW_BSC.shp')\n",
    "geo_df.head()"
   ]
  },
  {
   "cell_type": "code",
   "execution_count": null,
   "id": "0e6d5560",
   "metadata": {},
   "outputs": [],
   "source": [
    "oa_to_parish_lookup = pd.read_csv('data/OAs_(2021)_to_Civil_Parish_and_Non-Civil_Parished_Areas_to_LTLA_to_UTLA_to_Region_to_Country_(May_2022)_Lookup_in_England_and_Wales.csv')\n",
    "oa_to_parish_lookup.head()"
   ]
  },
  {
   "cell_type": "code",
   "execution_count": null,
   "id": "0c5f5326",
   "metadata": {},
   "outputs": [],
   "source": [
    "oa_to_parish_lookup = oa_to_parish_lookup[[\n",
    "    'OA21CD',\n",
    "    'PAR22CD',\n",
    "    'PAR22NM',\n",
    "    'RGN22NM'\n",
    "]]\n",
    "\n",
    "oa_to_parish_lookup.head()"
   ]
  },
  {
   "cell_type": "code",
   "execution_count": null,
   "id": "d08c8894",
   "metadata": {},
   "outputs": [],
   "source": [
    "oa_populations = pd.read_csv('data/census2021-ts001-oa.csv')\n",
    "oa_populations.head()"
   ]
  },
  {
   "cell_type": "code",
   "execution_count": null,
   "id": "c5206e1e",
   "metadata": {},
   "outputs": [],
   "source": [
    "oa_total_frame = oa_to_parish_lookup.merge(\n",
    "    oa_populations[['geography code', 'Residence type: Total; measures: Value']], \n",
    "    how='inner', \n",
    "    left_on='OA21CD', \n",
    "    right_on='geography code')\n",
    "\n",
    "oa_total_frame.head()\n",
    "                    "
   ]
  },
  {
   "cell_type": "code",
   "execution_count": null,
   "id": "c82709c8",
   "metadata": {},
   "outputs": [],
   "source": [
    "oa_total_frame = oa_total_frame.rename(columns={'Residence type: Total; measures: Value': 'population'}, errors='raise')\n",
    "oa_total_frame = oa_total_frame[[\n",
    "    'OA21CD',\n",
    "    'PAR22CD',\n",
    "    'PAR22NM',\n",
    "    'RGN22NM',\n",
    "    'population'\n",
    "]]\n",
    "\n",
    "oa_total_frame.head()"
   ]
  },
  {
   "cell_type": "code",
   "execution_count": null,
   "id": "b240f04a",
   "metadata": {},
   "outputs": [],
   "source": [
    "size_frame = pd.read_csv('geo_data/Output_Areas_Dec_2021_Boundaries_Full_Clipped_EW_BFC_2022_-340120420164038365.csv')\n",
    "size_frame.head()"
   ]
  },
  {
   "cell_type": "code",
   "execution_count": null,
   "id": "a9890ea7",
   "metadata": {},
   "outputs": [],
   "source": [
    "oa_total_frame = oa_total_frame.merge(\n",
    "    size_frame[['OA21CD', 'Shape__Area']],\n",
    "    how='inner',\n",
    "    on='OA21CD'\n",
    ")\n",
    "oa_total_frame = oa_total_frame.rename(\n",
    "    columns={'Shape__Area': 'area'}, \n",
    "    errors='raise'\n",
    ")"
   ]
  },
  {
   "cell_type": "code",
   "execution_count": null,
   "id": "95a13d17",
   "metadata": {},
   "outputs": [],
   "source": [
    "oa_total_frame.head()"
   ]
  },
  {
   "cell_type": "code",
   "execution_count": null,
   "id": "72762c48",
   "metadata": {},
   "outputs": [],
   "source": [
    "import glob\n",
    "to_include = list(set(glob.glob('output_data/all_data_final_updated_*.json')) - set(glob.glob('output_data/all_data_final_updated_errors*.json')))\n",
    "region_frames = [pd.read_json(i) for i in to_include]\n",
    "big_df = pd.concat(region_frames)\n",
    "big_df.shape\n"
   ]
  },
  {
   "cell_type": "code",
   "execution_count": null,
   "id": "fcf66a15",
   "metadata": {},
   "outputs": [],
   "source": [
    "oa_total_frame = oa_total_frame.merge(\n",
    "    big_df[['OA21CD', 'amenities']],\n",
    "    how='left',\n",
    "    on='OA21CD'\n",
    ")\n",
    "oa_total_frame.head()"
   ]
  },
  {
   "cell_type": "code",
   "execution_count": null,
   "id": "f620b935",
   "metadata": {},
   "outputs": [],
   "source": [
    "oa_total_frame.tail()"
   ]
  },
  {
   "cell_type": "code",
   "execution_count": null,
   "id": "ca718b38",
   "metadata": {},
   "outputs": [],
   "source": [
    "## drop Wales\n",
    "drop_wales = oa_total_frame[oa_total_frame.RGN22NM != 'Wales']\n",
    "drop_wales.shape"
   ]
  },
  {
   "cell_type": "code",
   "execution_count": null,
   "id": "0d98775b",
   "metadata": {},
   "outputs": [],
   "source": [
    "drop_wales[pd.isnull(drop_wales.amenities)].groupby(['RGN22NM']).size()"
   ]
  },
  {
   "cell_type": "code",
   "execution_count": null,
   "id": "2ba6487c",
   "metadata": {},
   "outputs": [],
   "source": [
    "oa_to_parish_lookup.groupby(['RGN22NM']).size()"
   ]
  },
  {
   "cell_type": "code",
   "execution_count": null,
   "id": "86c7eeac",
   "metadata": {},
   "outputs": [],
   "source": [
    "parish_frame = drop_wales[['PAR22CD', 'PAR22NM', 'RGN22NM', 'population', 'area']].groupby(['PAR22CD', 'PAR22NM', 'RGN22NM']).agg('sum').reset_index()\n",
    "parish_frame.head()"
   ]
  },
  {
   "cell_type": "markdown",
   "id": "d798b703",
   "metadata": {},
   "source": [
    "## Adding on Rural/Urban classification"
   ]
  },
  {
   "cell_type": "code",
   "execution_count": null,
   "id": "833d02d9",
   "metadata": {},
   "outputs": [],
   "source": [
    "rural_urban_lookup = pd.read_csv('data/RUC11_OA11_EW.csv')\n",
    "rural_urban_lookup.head()"
   ]
  },
  {
   "cell_type": "code",
   "execution_count": null,
   "id": "1f8362be",
   "metadata": {},
   "outputs": [],
   "source": [
    "oa11_oa21_lookup = pd.read_csv('data/OA_(2011)_to_OA_(2021)_to_Local_Authority_District_(2022)_for_England_and_Wales_Lookup_(Version_2).csv')\n",
    "oa11_oa21_lookup.head()"
   ]
  },
  {
   "cell_type": "code",
   "execution_count": null,
   "id": "560d7481",
   "metadata": {},
   "outputs": [],
   "source": [
    "rural_urban_lookup = rural_urban_lookup[['OA11CD', 'RUC11CD', 'RUC11']].merge(\n",
    "    oa11_oa21_lookup[['OA11CD', 'OA21CD']],\n",
    "    how='left',\n",
    "    on='OA11CD'\n",
    ")\n",
    "rural_urban_lookup.head()"
   ]
  },
  {
   "cell_type": "code",
   "execution_count": null,
   "id": "7240c7ff",
   "metadata": {},
   "outputs": [],
   "source": [
    "with_rural = drop_wales.merge(\n",
    "    rural_urban_lookup[[\n",
    "        'OA21CD',\n",
    "        'RUC11CD',\n",
    "        'RUC11'\n",
    "    ]],\n",
    "    how='left',\n",
    "    on='OA21CD'\n",
    ")\n",
    "\n",
    "with_rural.head()"
   ]
  },
  {
   "cell_type": "code",
   "execution_count": null,
   "id": "61e9a72d",
   "metadata": {},
   "outputs": [],
   "source": [
    "with_rural.groupby(['RUC11'])[[ 'area']].describe()"
   ]
  },
  {
   "cell_type": "code",
   "execution_count": null,
   "id": "489ab516",
   "metadata": {},
   "outputs": [],
   "source": [
    "with_rural[['RUC11', 'RUC11CD']].drop_duplicates()"
   ]
  },
  {
   "cell_type": "code",
   "execution_count": null,
   "id": "0d851eef",
   "metadata": {},
   "outputs": [],
   "source": [
    "official_rural_list = [\n",
    "    'D1', 'E1', 'F1', 'D2', 'E2', 'F2'\n",
    "]\n",
    "\n",
    "with_rural.head()"
   ]
  },
  {
   "cell_type": "code",
   "execution_count": null,
   "id": "f4bf9aa5",
   "metadata": {},
   "outputs": [],
   "source": [
    "with_rural['is_rural'] = with_rural.RUC11CD.isin(official_rural_list)\n",
    "with_rural.head()"
   ]
  },
  {
   "cell_type": "code",
   "execution_count": null,
   "id": "8b5103e2",
   "metadata": {},
   "outputs": [],
   "source": [
    "with_rural.groupby(['is_rural']).describe()"
   ]
  },
  {
   "cell_type": "code",
   "execution_count": null,
   "id": "353250eb",
   "metadata": {},
   "outputs": [],
   "source": [
    "agg_stats = with_rural.groupby(['is_rural']).sum().reset_index()\n",
    "agg_stats"
   ]
  },
  {
   "cell_type": "code",
   "execution_count": null,
   "id": "f0a4f641",
   "metadata": {},
   "outputs": [],
   "source": [
    "agg_stats['pct_population'] = 100*agg_stats.population/agg_stats.population.sum()\n",
    "agg_stats['pct_area'] = 100*agg_stats.area/agg_stats.area.sum()\n",
    "agg_stats"
   ]
  },
  {
   "cell_type": "markdown",
   "id": "d3cd01b0",
   "metadata": {},
   "source": [
    "## Facilities by urban/rural"
   ]
  },
  {
   "cell_type": "code",
   "execution_count": null,
   "id": "075f3e7e",
   "metadata": {},
   "outputs": [],
   "source": [
    "import collections\n",
    "\n",
    "def extract_amenity_list(value):\n",
    "    return collections.Counter([entry['amenity'] for entry in value])"
   ]
  },
  {
   "cell_type": "code",
   "execution_count": null,
   "id": "6f1779a5",
   "metadata": {},
   "outputs": [],
   "source": [
    "with_rural['amenity_list'] = with_rural.amenities.apply(extract_amenity_list)\n",
    "with_rural.head()"
   ]
  },
  {
   "cell_type": "code",
   "execution_count": null,
   "id": "367d2db9",
   "metadata": {},
   "outputs": [],
   "source": [
    "amenity_counters = with_rural.groupby(['is_rural']).amenity_list.sum(collections.Counter()).reset_index()\n",
    "amenity_counters"
   ]
  },
  {
   "cell_type": "code",
   "execution_count": null,
   "id": "4ee53a4a",
   "metadata": {},
   "outputs": [],
   "source": [
    "rural_counter = amenity_counters[amenity_counters.is_rural].amenity_list.values[0]\n",
    "urban_counter = amenity_counters[~amenity_counters.is_rural].amenity_list.values[0]"
   ]
  },
  {
   "cell_type": "code",
   "execution_count": null,
   "id": "62cc64fe",
   "metadata": {},
   "outputs": [],
   "source": [
    "urban_counter.most_common(10)"
   ]
  },
  {
   "cell_type": "code",
   "execution_count": null,
   "id": "c83a398b",
   "metadata": {},
   "outputs": [],
   "source": [
    "rural_counter.most_common(10)"
   ]
  },
  {
   "cell_type": "code",
   "execution_count": null,
   "id": "2044d533",
   "metadata": {},
   "outputs": [],
   "source": [
    "with_rural.groupby('is_rural').size()"
   ]
  },
  {
   "cell_type": "code",
   "execution_count": null,
   "id": "e7695538",
   "metadata": {},
   "outputs": [],
   "source": [
    "normalised_rural = collections.Counter()\n",
    "total_rural = sum(rural_counter.values())\n",
    "for item, count in rural_counter.items():\n",
    "    normalised_rural[item] = 100*count/total_rural\n",
    "    \n",
    "normalised_urban = collections.Counter()\n",
    "total_urban = sum(urban_counter.values())\n",
    "for item, count in urban_counter.items():\n",
    "    normalised_urban[item] = 100*count/total_urban"
   ]
  },
  {
   "cell_type": "code",
   "execution_count": null,
   "id": "1d23e0b2",
   "metadata": {},
   "outputs": [],
   "source": [
    "normalised_urban.most_common(10)"
   ]
  },
  {
   "cell_type": "code",
   "execution_count": null,
   "id": "426cd434",
   "metadata": {},
   "outputs": [],
   "source": [
    "normalised_rural.most_common(10)"
   ]
  },
  {
   "cell_type": "code",
   "execution_count": null,
   "id": "e55e5093",
   "metadata": {},
   "outputs": [],
   "source": [
    "rural_population=with_rural[with_rural.is_rural].population.sum()\n",
    "rural_oas = with_rural[with_rural.is_rural].shape[0]\n",
    "urban_population=with_rural[~with_rural.is_rural].population.sum()\n",
    "urban_oas = with_rural[~with_rural.is_rural].shape[0]\n",
    "\n",
    "rural_frame = pd.DataFrame(rural_counter.items(), columns=['amenity', 'number'])\n",
    "rural_frame['pct_items'] = 100*rural_frame.number / rural_frame.number.sum()\n",
    "rural_frame['num_per_person'] = rural_frame.number / rural_population\n",
    "rural_frame['num_per_oa'] = rural_frame.number / rural_oas\n",
    "urban_frame = pd.DataFrame(urban_counter.items(), columns=['amenity', 'number'])\n",
    "urban_frame['pct_items'] = 100*urban_frame.number / urban_frame.number.sum()\n",
    "urban_frame['num_per_person'] = urban_frame.number / urban_population\n",
    "urban_frame['num_per_oa'] = urban_frame.number / urban_oas\n",
    "urban_frame.head()"
   ]
  },
  {
   "cell_type": "code",
   "execution_count": null,
   "id": "310d4cd2",
   "metadata": {},
   "outputs": [],
   "source": [
    "mergey = urban_frame.merge(rural_frame, how='left', on='amenity', suffixes=('_urban', '_rural'))\n",
    "mergey.head()"
   ]
  },
  {
   "cell_type": "code",
   "execution_count": null,
   "id": "4fa1409e",
   "metadata": {},
   "outputs": [],
   "source": [
    "mergey['pct_diff'] = mergey.pct_items_urban - mergey.pct_items_rural\n",
    "mergey['diff_per_person'] = mergey.num_per_person_urban - mergey.num_per_person_rural\n",
    "mergey['diff_per_oa'] = mergey.num_per_oa_urban - mergey.num_per_oa_rural\n",
    "mergey.head()"
   ]
  },
  {
   "cell_type": "code",
   "execution_count": null,
   "id": "5203182b",
   "metadata": {},
   "outputs": [],
   "source": [
    "mergey.sort_values(by='pct_diff').head(10)"
   ]
  },
  {
   "cell_type": "code",
   "execution_count": null,
   "id": "52e0a983",
   "metadata": {},
   "outputs": [],
   "source": [
    "mergey.sort_values(by='pct_diff', ascending=False).head(10)"
   ]
  },
  {
   "cell_type": "code",
   "execution_count": null,
   "id": "6015b0ff",
   "metadata": {},
   "outputs": [],
   "source": [
    "mergey.sort_values(by='diff_per_person').head(10)"
   ]
  },
  {
   "cell_type": "code",
   "execution_count": null,
   "id": "6cf48ec1",
   "metadata": {},
   "outputs": [],
   "source": [
    "mergey.sort_values(by='diff_per_person', ascending=False).head(10)"
   ]
  },
  {
   "cell_type": "markdown",
   "id": "a9abd39c",
   "metadata": {},
   "source": [
    "## Classifying parishes"
   ]
  },
  {
   "cell_type": "code",
   "execution_count": null,
   "id": "22bdeba7",
   "metadata": {},
   "outputs": [],
   "source": [
    "with_rural.head()"
   ]
  },
  {
   "cell_type": "code",
   "execution_count": null,
   "id": "fdaf4bab",
   "metadata": {},
   "outputs": [],
   "source": [
    "parish_frame.head()"
   ]
  },
  {
   "cell_type": "code",
   "execution_count": null,
   "id": "3a8df37a",
   "metadata": {},
   "outputs": [],
   "source": [
    "parish_amenities = with_rural.groupby(['PAR22CD', 'PAR22NM', 'RGN22NM']).amenity_list.sum(collections.Counter()).reset_index()\n",
    "parish_amenities.head()"
   ]
  },
  {
   "cell_type": "code",
   "execution_count": null,
   "id": "4f26eb66",
   "metadata": {},
   "outputs": [],
   "source": [
    "parish_data = parish_frame.merge(parish_amenities, how='inner', on=['PAR22CD', 'PAR22NM', 'RGN22NM'])\n",
    "parish_data.head()"
   ]
  },
  {
   "cell_type": "code",
   "execution_count": null,
   "id": "a58345c2",
   "metadata": {},
   "outputs": [],
   "source": [
    "parish_data.shape"
   ]
  },
  {
   "cell_type": "code",
   "execution_count": null,
   "id": "921d636a",
   "metadata": {},
   "outputs": [],
   "source": [
    "classification = with_rural.groupby(['PAR22CD']).is_rural.apply(lambda x: x.sum() / x.size).reset_index()\n",
    "classification.head()"
   ]
  },
  {
   "cell_type": "code",
   "execution_count": null,
   "id": "308ebf19",
   "metadata": {},
   "outputs": [],
   "source": [
    "def classify_parish(x):\n",
    "    if x == 0:\n",
    "        return 'Urban'\n",
    "    elif x == 1:\n",
    "        return 'Rural'\n",
    "    else:\n",
    "        return 'Mixed'\n",
    "classification['rural_label'] = classification.is_rural.apply(classify_parish)\n",
    "classification.head()"
   ]
  },
  {
   "cell_type": "code",
   "execution_count": null,
   "id": "744431ac",
   "metadata": {},
   "outputs": [],
   "source": [
    "classification.groupby(['rural_label']).size()"
   ]
  },
  {
   "cell_type": "code",
   "execution_count": null,
   "id": "564a03c8",
   "metadata": {},
   "outputs": [],
   "source": [
    "parish_data = parish_data.merge(classification[['PAR22CD', 'rural_label']], how='inner', on='PAR22CD')\n",
    "parish_data.head()"
   ]
  },
  {
   "cell_type": "code",
   "execution_count": null,
   "id": "d4ae3886",
   "metadata": {},
   "outputs": [],
   "source": [
    "parish_data.groupby(['rural_label']).describe()"
   ]
  },
  {
   "cell_type": "code",
   "execution_count": null,
   "id": "dda49f1b",
   "metadata": {},
   "outputs": [],
   "source": [
    "parish_data.head()"
   ]
  },
  {
   "cell_type": "code",
   "execution_count": null,
   "id": "bf2f0285",
   "metadata": {},
   "outputs": [],
   "source": [
    "amenity_list = ['pub', 'school', 'place_of_worship']"
   ]
  },
  {
   "cell_type": "code",
   "execution_count": null,
   "id": "426b8f5c",
   "metadata": {},
   "outputs": [],
   "source": [
    "amenity_counts = [\n",
    "    [i.get(amenity,0) for i in parish_data.amenity_list]\n",
    "    for amenity in amenity_list\n",
    "]\n",
    "\n",
    "for amenity in amenity_list:\n",
    "    parish_data[amenity] = [i.get(amenity, 0) for i in parish_data.amenity_list]\n",
    "    \n",
    "parish_data.head()"
   ]
  },
  {
   "cell_type": "markdown",
   "id": "f3f6b1bf",
   "metadata": {},
   "source": [
    "## Plotting attempts"
   ]
  },
  {
   "cell_type": "code",
   "execution_count": null,
   "id": "02fa1691",
   "metadata": {},
   "outputs": [],
   "source": [
    "import geopandas as gdp\n",
    "geo_df = gdp.read_file('geo_data/Parishes_and_Non_Civil_Parished_Areas_(December_2021)_EW_BSC.shp')\n",
    "geo_df = geo_df.to_crs('EPSG:4326')\n",
    "geo_df.head()"
   ]
  },
  {
   "cell_type": "code",
   "execution_count": null,
   "id": "02f6f85c",
   "metadata": {},
   "outputs": [],
   "source": [
    "import statsmodels.api as sm\n",
    "from statsmodels.genmod.families import NegativeBinomial\n",
    "from statsmodels.discrete.count_model import ZeroInflatedPoisson\n",
    "# Fit the Negative Binomial model\n",
    "negbin_model = sm.GLM(amenity_counts[0], sm.add_constant(np.log(parish_data.population)),\n",
    "                      family=sm.families.NegativeBinomial()).fit()\n",
    "\n",
    "# Fit the Zero-Inflated Poisson model\n",
    "zip_model = ZeroInflatedPoisson(np.array(amenity_counts[0]), sm.add_constant(np.log(parish_data.population))).fit()\n",
    "\n",
    "\n",
    "\n",
    "# Compare model performance using AIC or BIC\n",
    "print(negbin_model.summary())\n",
    "print(zip_model.summary())"
   ]
  },
  {
   "cell_type": "code",
   "execution_count": null,
   "id": "630573bc",
   "metadata": {},
   "outputs": [],
   "source": [
    "print(negbin_model.aic)\n",
    "print(zip_model.aic)"
   ]
  },
  {
   "cell_type": "code",
   "execution_count": null,
   "id": "e8644e6a",
   "metadata": {},
   "outputs": [],
   "source": [
    "# Fit the negative binomial regression model\n",
    "model = sm.GLM(\n",
    "    np.log(parish_data[parish_data.rural_label == 'Rural'].pub + 1), \n",
    "    sm.add_constant(\n",
    "        np.log(parish_data[parish_data.rural_label=='Rural'].population)\n",
    "    ),\n",
    "    family=sm.families.NegativeBinomial()\n",
    ").fit()\n",
    "\n",
    "# Print the model summary\n",
    "print(model.summary())"
   ]
  },
  {
   "cell_type": "code",
   "execution_count": null,
   "id": "950d0ad6",
   "metadata": {},
   "outputs": [],
   "source": [
    "residuals = model.resid_response\n",
    "fitted_values = model.fittedvalues\n",
    "plt.scatter(fitted_values, residuals)\n",
    "plt.xlabel('Fitted Values')\n",
    "plt.ylabel('Residuals')\n",
    "plt.title('Residuals vs. Fitted')\n",
    "plt.show()\n",
    "\n",
    "# Quantile-Quantile plot of the residuals\n",
    "sm.qqplot(residuals, line='s')\n",
    "plt.xlabel('Theoretical Quantiles')\n",
    "plt.ylabel('Sample Quantiles')\n",
    "plt.title('Q-Q Plot of Residuals')\n",
    "plt.show()"
   ]
  },
  {
   "cell_type": "markdown",
   "id": "aaca54b1",
   "metadata": {},
   "source": [
    "## Layering on IMD"
   ]
  },
  {
   "cell_type": "code",
   "execution_count": null,
   "id": "2bb23d01",
   "metadata": {},
   "outputs": [],
   "source": [
    "imd_data = pd.read_csv('data/Index_of_Multiple_Deprivation_(Dec_2019)_Lookup_in_England.csv')\n",
    "imd_data.head()"
   ]
  },
  {
   "cell_type": "code",
   "execution_count": null,
   "id": "cdd1a142",
   "metadata": {},
   "outputs": [],
   "source": [
    "oa11_lsoa11_lookup = pd.read_csv('data/Output_Area_to_Lower_layer_Super_Output_Area_to_Middle_layer_Super_Output_Area_to_Local_Authority_District_(December_2011)_Lookup_in_England_and_Wales.csv')\n",
    "oa11_lsoa11_lookup.head()\n"
   ]
  },
  {
   "cell_type": "code",
   "execution_count": null,
   "id": "ead624bb",
   "metadata": {},
   "outputs": [],
   "source": [
    "oa11_oa21_lookup.head()"
   ]
  },
  {
   "cell_type": "code",
   "execution_count": null,
   "id": "80ee1a23",
   "metadata": {},
   "outputs": [],
   "source": [
    "imd_frame = oa11_oa21_lookup[['OA11CD', 'OA21CD']].merge(\n",
    "    oa11_lsoa11_lookup[['OA11CD', 'LSOA11CD']], how='inner', on='OA11CD'\n",
    ").merge(\n",
    "    imd_data[['LSOA11CD', 'IMD19']],\n",
    "    how='inner',\n",
    "    on='LSOA11CD'\n",
    ")\n",
    "\n",
    "imd_frame.head()"
   ]
  },
  {
   "cell_type": "code",
   "execution_count": null,
   "id": "3c7b76de",
   "metadata": {},
   "outputs": [],
   "source": [
    "oa_total_frame.head()"
   ]
  },
  {
   "cell_type": "code",
   "execution_count": null,
   "id": "a4773c97",
   "metadata": {},
   "outputs": [],
   "source": [
    "imd_frame.groupby(['OA21CD']).size().sort_values(ascending=False).head(10)"
   ]
  },
  {
   "cell_type": "code",
   "execution_count": null,
   "id": "6499b18c",
   "metadata": {},
   "outputs": [],
   "source": [
    "raw_oa21_imd_lookup = imd_frame[['OA21CD', 'IMD19']].drop_duplicates()\n",
    "oa_total_frame = oa_total_frame.merge(raw_oa21_imd_lookup, how='left', on='OA21CD')\n",
    "oa_total_frame.head()"
   ]
  },
  {
   "cell_type": "code",
   "execution_count": null,
   "id": "76925bce",
   "metadata": {},
   "outputs": [],
   "source": [
    "parish_data.head()"
   ]
  },
  {
   "cell_type": "code",
   "execution_count": null,
   "id": "12e71b6f",
   "metadata": {},
   "outputs": [],
   "source": [
    "def weighted_imd(x,weighting_column):\n",
    "    imd_total = 0\n",
    "    weighting_total = 0\n",
    "    for row in x.iterrows():\n",
    "        imd_total += row[1].IMD19 * row[1][weighting_column]\n",
    "        weighting_total += row[1][weighting_column]\n",
    "    total = imd_total/weighting_total\n",
    "    return total\n",
    "\n",
    "parish_imd_frame = oa_total_frame.groupby(['PAR22CD', 'PAR22NM']).apply(lambda x: weighted_imd(x, 'population')).reset_index()\n",
    "parish_imd_frame.columns = ['PAR22CD', 'PAR22NM', 'population_weighted_imd']\n",
    "parish_imd_frame.head()\n"
   ]
  },
  {
   "cell_type": "code",
   "execution_count": null,
   "id": "73e322ba",
   "metadata": {},
   "outputs": [],
   "source": [
    "inty = oa_total_frame.groupby(['PAR22CD', 'PAR22NM']).apply(lambda x: weighted_imd(x, 'area')).reset_index()\n",
    "inty.columns = ['PAR22CD', 'PAR22NM', 'area_weighted_imd']\n",
    "inty.head()"
   ]
  },
  {
   "cell_type": "code",
   "execution_count": null,
   "id": "3feb4592",
   "metadata": {},
   "outputs": [],
   "source": [
    "parish_imd_frame = parish_imd_frame.merge(inty, how='inner', on=['PAR22CD', 'PAR22NM'])\n",
    "parish_imd_frame.head()"
   ]
  },
  {
   "cell_type": "code",
   "execution_count": null,
   "id": "8cd485c2",
   "metadata": {},
   "outputs": [],
   "source": [
    "parish_imd_frame[pd.isnull(parish_imd_frame.area_weighted_imd)].head()"
   ]
  },
  {
   "cell_type": "code",
   "execution_count": null,
   "id": "6491fd5e",
   "metadata": {},
   "outputs": [],
   "source": [
    "parish_data = parish_data.merge(\n",
    "    parish_imd_frame[['PAR22CD', 'population_weighted_imd', 'area_weighted_imd']],\n",
    "    how='inner',\n",
    "    on='PAR22CD'\n",
    ")\n",
    "\n",
    "parish_data.head()"
   ]
  },
  {
   "cell_type": "code",
   "execution_count": null,
   "id": "0cbe2e3c",
   "metadata": {},
   "outputs": [],
   "source": [
    "parish_data[parish_data.PAR22NM == 'Great Ouseburn']"
   ]
  },
  {
   "cell_type": "markdown",
   "id": "3bed8bea",
   "metadata": {},
   "source": [
    "## Powerlaw time"
   ]
  },
  {
   "cell_type": "code",
   "execution_count": null,
   "id": "4bb1908e",
   "metadata": {},
   "outputs": [],
   "source": [
    "fit = powerlaw.Fit(parish_data.pub.values, discrete=True)"
   ]
  },
  {
   "cell_type": "code",
   "execution_count": null,
   "id": "c21bb1be",
   "metadata": {},
   "outputs": [],
   "source": [
    "fit.power_law.alpha"
   ]
  },
  {
   "cell_type": "code",
   "execution_count": null,
   "id": "3813ddb3",
   "metadata": {},
   "outputs": [],
   "source": [
    "fit.power_law.sigma"
   ]
  },
  {
   "cell_type": "code",
   "execution_count": null,
   "id": "e9b54135",
   "metadata": {},
   "outputs": [],
   "source": [
    "fit.distribution_compare('power_law', 'exponential')"
   ]
  },
  {
   "cell_type": "code",
   "execution_count": null,
   "id": "a90f772e",
   "metadata": {},
   "outputs": [],
   "source": [
    "fig, ax = plt.subplots(figsize=(20,12))\n",
    "\n",
    "plt.hist(np.log(parish_data.pub.values + 1), bins=30)\n",
    "plt.show()"
   ]
  },
  {
   "cell_type": "code",
   "execution_count": null,
   "id": "54d25bf5",
   "metadata": {},
   "outputs": [],
   "source": [
    "len(parish_data.pub.values)"
   ]
  },
  {
   "cell_type": "code",
   "execution_count": null,
   "id": "5917e89a",
   "metadata": {},
   "outputs": [],
   "source": [
    "np.max(parish_data.pub.values)"
   ]
  },
  {
   "cell_type": "code",
   "execution_count": null,
   "id": "ded4404c",
   "metadata": {},
   "outputs": [],
   "source": [
    "from collections import Counter\n",
    "Counter(parish_data.pub.values).most_common(10)"
   ]
  },
  {
   "cell_type": "code",
   "execution_count": null,
   "id": "e57d3f6b",
   "metadata": {},
   "outputs": [],
   "source": [
    "data = parish_data.pub.values\n",
    "plt.hist(data, bins=range(max(data)+2), align='left')\n",
    "plt.xlabel('Number of Pubs')\n",
    "plt.ylabel('Frequency')\n",
    "plt.title('Distribution of Pubs in a Parish')\n",
    "plt.show()"
   ]
  },
  {
   "cell_type": "code",
   "execution_count": null,
   "id": "84f5dc28",
   "metadata": {},
   "outputs": [],
   "source": [
    "from scipy.stats import poisson\n",
    "mu = np.mean(data)\n",
    "\n",
    "x = np.arange(0, max(data) + 1)\n",
    "dist = poisson.pmf(x, mu)\n",
    "fig, ax = plt.subplots(figsize=(20,12))\n",
    "plt.hist(data, bins=range(max(data) + 2), align='left', density=True, label='Data')\n",
    "plt.plot(x, dist, 'r-', label='Poisson fit')\n",
    "plt.xlabel('Number of Pubs')\n",
    "plt.ylabel('Probability')\n",
    "plt.title('Fitted Poisson Distribution')\n",
    "plt.xlim([0,20])\n",
    "plt.legend()\n",
    "plt.show()"
   ]
  },
  {
   "cell_type": "code",
   "execution_count": null,
   "id": "8c09035f",
   "metadata": {},
   "outputs": [],
   "source": [
    "mu"
   ]
  },
  {
   "cell_type": "code",
   "execution_count": null,
   "id": "f63e5ccd",
   "metadata": {},
   "outputs": [],
   "source": [
    "from scipy.stats import nbinom\n",
    "\n",
    "fig, ax = plt.subplots(figsize=(20,12))\n",
    "# Plot the fitted Negative Binomial distribution\n",
    "x = np.arange(0, max(data) + 1)\n",
    "plt.hist(data, bins=range(max(data) + 2), align='left', density=True, label='Data')\n",
    "plt.plot(x, nbinom.pmf(x, 0.056287, 0.01532555), 'r-', label='Negative Binomial fit')\n",
    "plt.xlabel('Number of Pubs')\n",
    "plt.ylabel('Probability')\n",
    "plt.title('Fitted Negative Binomial Distribution')\n",
    "plt.xlim([0,15])\n",
    "plt.legend()\n",
    "plt.show()"
   ]
  },
  {
   "cell_type": "code",
   "execution_count": null,
   "id": "81903289",
   "metadata": {},
   "outputs": [],
   "source": [
    "from scipy.special import gammaln, factorial\n",
    "from scipy.special import psi\n",
    "from scipy.optimize import fmin_l_bfgs_b as optim\n",
    "\n",
    "def fit_nbinom(X, initial_params=None):\n",
    "    infinitesimal = np.finfo(np.float).eps\n",
    "\n",
    "    def log_likelihood(params, *args):\n",
    "        r, p = params\n",
    "        X = args[0]\n",
    "        N = X.size\n",
    "\n",
    "        #MLE estimate based on the formula on Wikipedia:\n",
    "        # http://en.wikipedia.org/wiki/Negative_binomial_distribution#Maximum_likelihood_estimation\n",
    "        result = np.sum(gammaln(X + r)) \\\n",
    "            - np.sum(np.log(factorial(X))) \\\n",
    "            - N*(gammaln(r)) \\\n",
    "            + N*r*np.log(p) \\\n",
    "            + np.sum(X*np.log(1-(p if p < 1 else 1-infinitesimal)))\n",
    "\n",
    "        return -result\n",
    "\n",
    "    def log_likelihood_deriv(params, *args):\n",
    "        r, p = params\n",
    "        X = args[0]\n",
    "        N = X.size\n",
    "\n",
    "        pderiv = (N*r)/p - np.sum(X)/(1-(p if p < 1 else 1-infinitesimal))\n",
    "        rderiv = np.sum(psi(X + r)) \\\n",
    "            - N*psi(r) \\\n",
    "            + N*np.log(p)\n",
    "\n",
    "        return np.array([-rderiv, -pderiv])\n",
    "\n",
    "    if initial_params is None:\n",
    "        #reasonable initial values (from fitdistr function in R)\n",
    "        m = np.mean(X)\n",
    "        v = np.var(X)\n",
    "        size = (m**2)/(v-m) if v > m else 10\n",
    "\n",
    "        #convert mu/size parameterization to prob/size\n",
    "        p0 = size / ((size+m) if size+m != 0 else 1)\n",
    "        r0 = size\n",
    "        initial_params = np.array([r0, p0])\n",
    "\n",
    "    bounds = [(infinitesimal, None), (infinitesimal, 1)]\n",
    "    optimres = optim(log_likelihood,\n",
    "                     x0=initial_params,\n",
    "                     #fprime=log_likelihood_deriv,\n",
    "                     args=(X,),\n",
    "                     approx_grad=1,\n",
    "                     bounds=bounds)\n",
    "\n",
    "    params = optimres[0]\n",
    "    return {'size': params[0], 'prob': params[1]}"
   ]
  },
  {
   "cell_type": "code",
   "execution_count": null,
   "id": "39deb18e",
   "metadata": {},
   "outputs": [],
   "source": [
    "fit_nbinom(data)"
   ]
  },
  {
   "cell_type": "code",
   "execution_count": null,
   "id": "cc85816a",
   "metadata": {},
   "outputs": [],
   "source": [
    "nbinom.pmf(x, 0.01532555, 0.056287)"
   ]
  },
  {
   "cell_type": "code",
   "execution_count": null,
   "id": "1d571925",
   "metadata": {},
   "outputs": [],
   "source": [
    "from scipy.stats._continuous_distns import _distn_names"
   ]
  },
  {
   "cell_type": "code",
   "execution_count": null,
   "id": "f2511d53",
   "metadata": {},
   "outputs": [],
   "source": [
    "rural_only = parish_data[parish_data.rural_label == 'Rural']\n",
    "rural_only.shape"
   ]
  },
  {
   "cell_type": "code",
   "execution_count": null,
   "id": "92a7ee53",
   "metadata": {},
   "outputs": [],
   "source": [
    "rural_only.head()"
   ]
  },
  {
   "cell_type": "code",
   "execution_count": null,
   "id": "e1987ed5",
   "metadata": {
    "scrolled": false
   },
   "outputs": [],
   "source": [
    "import warnings\n",
    "import numpy as np\n",
    "import pandas as pd\n",
    "import scipy.stats as st\n",
    "import statsmodels.api as sm\n",
    "from scipy.stats._discrete_distns import _distn_names\n",
    "import matplotlib\n",
    "import matplotlib.pyplot as plt\n",
    "from scipy.stats import fit\n",
    "\n",
    "matplotlib.rcParams['figure.figsize'] = (16.0, 12.0)\n",
    "matplotlib.style.use('ggplot')\n",
    "\n",
    "# Create models from data\n",
    "def best_fit_distribution(data, bins=200, ax=None):\n",
    "    \"\"\"Model data by finding best fit distribution to data\"\"\"\n",
    "    # Get histogram of original data\n",
    "    y, x = np.histogram(data, bins=bins, density=True)\n",
    "    x = x[:-1]\n",
    "\n",
    "    # Best holders\n",
    "    best_distributions = []\n",
    "\n",
    "    # Estimate distribution parameters from data\n",
    "    for ii, distribution in enumerate([d for d in _distn_names if not d in ['levy_stable', 'studentized_range']]):\n",
    "\n",
    "        print(\"{:>3} / {:<3}: {}\".format( ii+1, len(_distn_names), distribution ))\n",
    "\n",
    "        distribution = getattr(st, distribution)\n",
    "\n",
    "        # Try to fit the distribution\n",
    "        try:\n",
    "            # Ignore warnings from data that can't be fit\n",
    "            with warnings.catch_warnings():\n",
    "                warnings.filterwarnings('ignore')\n",
    "\n",
    "                # fit dist to data\n",
    "                params = fit(distribution, data, bounds = {\n",
    "                    'n': [-1000,1000], \n",
    "                    'p': [-1000, 1000], \n",
    "                    'mu': [-1000,1000], \n",
    "                    'scale': [-1000, 1000],\n",
    "                    'loc': [-1000,1000],\n",
    "                    'a': [-1000, 1000],\n",
    "                    'lambda_': [-1000,1000],\n",
    "                    'lambda': [-1000,1000],\n",
    "                    'N': [-1000, 1000],\n",
    "                    'b': [-1000,1000],\n",
    "                    'M': [-1000,1000],\n",
    "                    'mu1': [-1000,1000],\n",
    "                    'mu2': [-1000,1000],\n",
    "                    'alpha': [-1000,1000],\n",
    "#                    'odds': [-10,20]\n",
    "                })\n",
    "                score = params.nllf()\n",
    "\n",
    "                # Separate parts of parameters\n",
    "                better_params = params.params\n",
    "\n",
    "                # Calculate fitted PDF and error with fit in distribution\n",
    "                pdf = distribution.pmf(x,*better_params)\n",
    "                sse = np.sum(np.power(y - pdf, 2.0))\n",
    "\n",
    "                # if axis pass in add to plot\n",
    "                try:\n",
    "                    if ax:\n",
    "                        ax.plot(x, pdf)\n",
    "#                        pd.Series(pdf, x).plot(ax=ax)\n",
    "                    end\n",
    "                except Exception:\n",
    "                    pass\n",
    "\n",
    "                # identify if this distribution is better\n",
    "                print(\"About to append\")\n",
    "                best_distributions.append((distribution, better_params, score))\n",
    "        except Exception:\n",
    "            pass\n",
    "            \n",
    "\n",
    "    \n",
    "    return sorted(best_distributions, key=lambda x:x[2])\n",
    "\n",
    "def make_pdf(dist, params, size=10000):\n",
    "    \"\"\"Generate distributions's Probability Distribution Function \"\"\"\n",
    "\n",
    "    # Separate parts of parameters\n",
    "\n",
    "\n",
    "    # Get sane start and end points of distribution\n",
    "    start = dist.ppf(0.01, *params) \n",
    "    end = dist.ppf(0.99, *params)\n",
    "\n",
    "    # Build PDF and turn into pandas Series\n",
    "    x = np.arange(start, end)\n",
    "    y = dist.pmf(x, *params)\n",
    "    pdf = pd.Series(y, x)\n",
    "\n",
    "    return pdf\n",
    "\n",
    "# Load data from statsmodels datasets\n",
    "data = pd.Series(parish_data[parish_data.rural_label == 'Rural'].pub.values)\n",
    "\n",
    "# Plot for comparison\n",
    "plt.figure(figsize=(12,8))\n",
    "ax = data.plot(kind='hist', bins=50, density=True, alpha=0.5, color=list(matplotlib.rcParams['axes.prop_cycle'])[1]['color'])\n",
    "\n",
    "# Save plot limits\n",
    "dataYLim = ax.get_ylim()\n",
    "\n",
    "# Find best fit distribution\n",
    "best_distibutions = best_fit_distribution(data, 200, ax)\n",
    "best_dist = best_distibutions[0]\n",
    "\n",
    "# Update plots\n",
    "ax.set_ylim(dataYLim)\n",
    "ax.set_title(u'Number of pubs\\n All Fitted Distributions')\n",
    "ax.set_xlabel(u'Number of pubs')\n",
    "ax.set_ylabel('Frequency')\n",
    "\n",
    "# Make PDF with best params \n",
    "plt.figure(figsize=(20,12))\n",
    "for i in range(4):\n",
    "    disty = best_distibutions[i]\n",
    "    pdf = make_pdf(disty[0], disty[1])\n",
    "    ax = pdf.plot(lw=2, label='PDF - {0}'.format(disty[0].name), legend=True)\n",
    "# Display\n",
    "\n",
    "ax.hist(data, bins=50, label='Data')\n",
    "\n",
    "#data.plot(kind='hist', bins=50, density=True, alpha=0.5, label='Data', legend=True, ax=ax)\n",
    "\n",
    "param_names = (best_dist[0].shapes + ', loc, scale').split(', ') if best_dist[0].shapes else ['loc', 'scale']\n",
    "param_str = ', '.join(['{}={:0.2f}'.format(k,v) for k,v in zip(param_names, best_dist[1])])\n",
    "dist_str = '{}({})'.format(best_dist[0].name, param_str)\n",
    "\n",
    "ax.set_title(u'Number of pubs with best fit distribution \\n' + dist_str)\n",
    "ax.set_xlabel(u'Number of pubs')\n",
    "ax.set_ylabel('Frequency')"
   ]
  },
  {
   "cell_type": "code",
   "execution_count": null,
   "id": "4b8d980d",
   "metadata": {},
   "outputs": [],
   "source": [
    "np.sum(make_pdf(best_distibutions[0][0], best_distibutions[0][1]))"
   ]
  },
  {
   "cell_type": "code",
   "execution_count": null,
   "id": "2e5a73cd",
   "metadata": {},
   "outputs": [],
   "source": [
    "best_distibutions"
   ]
  },
  {
   "cell_type": "code",
   "execution_count": null,
   "id": "a211b26b",
   "metadata": {},
   "outputs": [],
   "source": [
    "best_distributions[1]"
   ]
  },
  {
   "cell_type": "code",
   "execution_count": null,
   "id": "712f0462",
   "metadata": {},
   "outputs": [],
   "source": [
    "a"
   ]
  },
  {
   "cell_type": "code",
   "execution_count": null,
   "id": "79d07bc9",
   "metadata": {},
   "outputs": [],
   "source": [
    "start"
   ]
  },
  {
   "cell_type": "code",
   "execution_count": null,
   "id": "da7f3cd5",
   "metadata": {},
   "outputs": [],
   "source": [
    "end"
   ]
  },
  {
   "cell_type": "code",
   "execution_count": null,
   "id": "29d4c2d2",
   "metadata": {},
   "outputs": [],
   "source": [
    "y, x = np.histogram(data, bins=200, density=True)\n",
    "x = x[:-1]\n",
    "x"
   ]
  },
  {
   "cell_type": "code",
   "execution_count": null,
   "id": "7d43c2f0",
   "metadata": {},
   "outputs": [],
   "source": [
    "x = np.linspace(start, end, 10000)\n",
    "y = dist.pmf(x, *params)"
   ]
  },
  {
   "cell_type": "code",
   "execution_count": null,
   "id": "1f8dd4a5",
   "metadata": {},
   "outputs": [],
   "source": [
    "y"
   ]
  },
  {
   "cell_type": "code",
   "execution_count": null,
   "id": "56625b13",
   "metadata": {},
   "outputs": [],
   "source": [
    "distribution = getattr(st, _distn_names[3])"
   ]
  },
  {
   "cell_type": "code",
   "execution_count": null,
   "id": "778fab4a",
   "metadata": {},
   "outputs": [],
   "source": [
    "params = distribution.fit(data)"
   ]
  },
  {
   "cell_type": "code",
   "execution_count": null,
   "id": "648e5737",
   "metadata": {},
   "outputs": [],
   "source": [
    "from scipy.stats import fit"
   ]
  },
  {
   "cell_type": "code",
   "execution_count": null,
   "id": "367cd2f7",
   "metadata": {},
   "outputs": [],
   "source": [
    "params = fit(distribution, data, bounds={'n': [-10,100], 'p': [-10,100]})"
   ]
  },
  {
   "cell_type": "code",
   "execution_count": null,
   "id": "3a610ac4",
   "metadata": {},
   "outputs": [],
   "source": [
    "params"
   ]
  },
  {
   "cell_type": "code",
   "execution_count": null,
   "id": "a964ebcd",
   "metadata": {},
   "outputs": [],
   "source": [
    "n = params.params.n\n",
    "p = params.params.p"
   ]
  },
  {
   "cell_type": "code",
   "execution_count": null,
   "id": "b797d771",
   "metadata": {},
   "outputs": [],
   "source": [
    "pdf = distribution.pmf(np.arange(50), n=n, p=p)"
   ]
  },
  {
   "cell_type": "raw",
   "id": "a2963e97",
   "metadata": {},
   "source": [
    "pdf"
   ]
  },
  {
   "cell_type": "code",
   "execution_count": null,
   "id": "3103696b",
   "metadata": {},
   "outputs": [],
   "source": [
    "pdf"
   ]
  },
  {
   "cell_type": "code",
   "execution_count": null,
   "id": "ef2853f9",
   "metadata": {},
   "outputs": [],
   "source": [
    "fig, ax = plt.subplots(figsize=(20,12))\n",
    "plt.bar(np.arange(50), pdf)\n",
    "plt.show()"
   ]
  },
  {
   "cell_type": "code",
   "execution_count": null,
   "id": "dafe9aa0",
   "metadata": {},
   "outputs": [],
   "source": [
    "x"
   ]
  },
  {
   "cell_type": "code",
   "execution_count": null,
   "id": "c33f4888",
   "metadata": {},
   "outputs": [],
   "source": [
    "params = fit(distribution, data, bounds = {'n': [-10,10], 'p': [-10, 10]})\n",
    "\n",
    "                # Separate parts of parameters\n",
    "n = params.params.n\n",
    "p = params.params.p\n",
    "                \n",
    "                # Calculate fitted PDF and error with fit in distribution\n",
    "pdf = distribution.pmf(x, n=n, p=p)"
   ]
  },
  {
   "cell_type": "code",
   "execution_count": null,
   "id": "013c937e",
   "metadata": {},
   "outputs": [],
   "source": [
    "ax"
   ]
  },
  {
   "cell_type": "code",
   "execution_count": null,
   "id": "e44dbcaa",
   "metadata": {},
   "outputs": [],
   "source": [
    "pd.Series(pdf, x).plot(ax=ax)"
   ]
  },
  {
   "cell_type": "code",
   "execution_count": null,
   "id": "c85d91c0",
   "metadata": {},
   "outputs": [],
   "source": [
    "plt.show()"
   ]
  },
  {
   "cell_type": "code",
   "execution_count": null,
   "id": "dec60551",
   "metadata": {},
   "outputs": [],
   "source": [
    "from collections import Counter\n",
    "Counter(data.values).most_common(15)"
   ]
  },
  {
   "cell_type": "code",
   "execution_count": null,
   "id": "f6ef7b7b",
   "metadata": {},
   "outputs": [],
   "source": [
    "best_distibutions"
   ]
  },
  {
   "cell_type": "code",
   "execution_count": null,
   "id": "1641162f",
   "metadata": {},
   "outputs": [],
   "source": [
    "from scipy import stats\n",
    "alternative = stats.betabinom.rvs(n=450, a=2.10153167667377, b=698.4475720315137, size=300)\n",
    "stats.kstest(data.values, alternative)"
   ]
  },
  {
   "cell_type": "code",
   "execution_count": null,
   "id": "38f367a9",
   "metadata": {},
   "outputs": [],
   "source": [
    "stats.nbinom?"
   ]
  },
  {
   "cell_type": "code",
   "execution_count": null,
   "id": "fd7277c4",
   "metadata": {},
   "outputs": [],
   "source": [
    "np.max(data)"
   ]
  },
  {
   "cell_type": "code",
   "execution_count": null,
   "id": "a78b1fd6",
   "metadata": {},
   "outputs": [],
   "source": []
  }
 ],
 "metadata": {
  "kernelspec": {
   "display_name": "Python 3 (ipykernel)",
   "language": "python",
   "name": "python3"
  },
  "language_info": {
   "codemirror_mode": {
    "name": "ipython",
    "version": 3
   },
   "file_extension": ".py",
   "mimetype": "text/x-python",
   "name": "python",
   "nbconvert_exporter": "python",
   "pygments_lexer": "ipython3",
   "version": "3.9.16"
  }
 },
 "nbformat": 4,
 "nbformat_minor": 5
}
