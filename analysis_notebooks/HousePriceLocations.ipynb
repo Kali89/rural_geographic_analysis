{
 "cells": [
  {
   "cell_type": "code",
   "execution_count": 1,
   "id": "417d9ae9",
   "metadata": {},
   "outputs": [],
   "source": [
    "import pandas as pd\n",
    "from matplotlib import pyplot as plt\n",
    "import numpy as np\n",
    "import math\n",
    "import seaborn as sns\n",
    "import json"
   ]
  },
  {
   "cell_type": "code",
   "execution_count": 2,
   "id": "be1004c4",
   "metadata": {},
   "outputs": [],
   "source": [
    "%matplotlib inline"
   ]
  },
  {
   "cell_type": "code",
   "execution_count": 3,
   "id": "cb8f8616",
   "metadata": {},
   "outputs": [
    {
     "data": {
      "text/html": [
       "<div>\n",
       "<style scoped>\n",
       "    .dataframe tbody tr th:only-of-type {\n",
       "        vertical-align: middle;\n",
       "    }\n",
       "\n",
       "    .dataframe tbody tr th {\n",
       "        vertical-align: top;\n",
       "    }\n",
       "\n",
       "    .dataframe thead th {\n",
       "        text-align: right;\n",
       "    }\n",
       "</style>\n",
       "<table border=\"1\" class=\"dataframe\">\n",
       "  <thead>\n",
       "    <tr style=\"text-align: right;\">\n",
       "      <th></th>\n",
       "      <th>uprn</th>\n",
       "      <th>transactionid</th>\n",
       "      <th>parentuprn</th>\n",
       "      <th>usrn</th>\n",
       "    </tr>\n",
       "  </thead>\n",
       "  <tbody>\n",
       "    <tr>\n",
       "      <th>0</th>\n",
       "      <td>30</td>\n",
       "      <td>{DD204FA6-B333-4A06-9E31-7ACABE162EB7}</td>\n",
       "      <td>NaN</td>\n",
       "      <td>4549897</td>\n",
       "    </tr>\n",
       "    <tr>\n",
       "      <th>1</th>\n",
       "      <td>31</td>\n",
       "      <td>{B26F0F8D-4C7A-4DBF-B10A-3336830BF462}</td>\n",
       "      <td>NaN</td>\n",
       "      <td>4549897</td>\n",
       "    </tr>\n",
       "    <tr>\n",
       "      <th>2</th>\n",
       "      <td>63</td>\n",
       "      <td>{241A4A53-DD8C-706B-E050-A8C06205638B}</td>\n",
       "      <td>NaN</td>\n",
       "      <td>4582546</td>\n",
       "    </tr>\n",
       "    <tr>\n",
       "      <th>3</th>\n",
       "      <td>97</td>\n",
       "      <td>{85866A64-627D-143F-E053-6B04A8C06A15}</td>\n",
       "      <td>NaN</td>\n",
       "      <td>4527985</td>\n",
       "    </tr>\n",
       "    <tr>\n",
       "      <th>4</th>\n",
       "      <td>103</td>\n",
       "      <td>{BE61D947-ED06-482E-8274-8B84912C15CB}</td>\n",
       "      <td>NaN</td>\n",
       "      <td>4527985</td>\n",
       "    </tr>\n",
       "  </tbody>\n",
       "</table>\n",
       "</div>"
      ],
      "text/plain": [
       "   uprn                           transactionid  parentuprn     usrn\n",
       "0    30  {DD204FA6-B333-4A06-9E31-7ACABE162EB7}         NaN  4549897\n",
       "1    31  {B26F0F8D-4C7A-4DBF-B10A-3336830BF462}         NaN  4549897\n",
       "2    63  {241A4A53-DD8C-706B-E050-A8C06205638B}         NaN  4582546\n",
       "3    97  {85866A64-627D-143F-E053-6B04A8C06A15}         NaN  4527985\n",
       "4   103  {BE61D947-ED06-482E-8274-8B84912C15CB}         NaN  4527985"
      ]
     },
     "execution_count": 3,
     "metadata": {},
     "output_type": "execute_result"
    }
   ],
   "source": [
    "transaction_to_uprn_lookup = pd.read_csv('../data/ppdid_uprn_usrn.csv')\n",
    "transaction_to_uprn_lookup.head()"
   ]
  },
  {
   "cell_type": "code",
   "execution_count": 4,
   "id": "606817e3",
   "metadata": {},
   "outputs": [
    {
     "data": {
      "text/plain": [
       "(25950983, 4)"
      ]
     },
     "execution_count": 4,
     "metadata": {},
     "output_type": "execute_result"
    }
   ],
   "source": [
    "transaction_to_uprn_lookup.shape"
   ]
  },
  {
   "cell_type": "code",
   "execution_count": 5,
   "id": "5e5f93f3",
   "metadata": {},
   "outputs": [
    {
     "name": "stdout",
     "output_type": "stream",
     "text": [
      "Done chunk 0\n",
      "Done chunk 20\n",
      "Done chunk 40\n",
      "Done chunk 60\n",
      "Done chunk 80\n",
      "Done chunk 100\n",
      "Done chunk 120\n",
      "Done chunk 140\n",
      "Done chunk 160\n",
      "Done chunk 180\n",
      "Done chunk 200\n",
      "Done chunk 220\n",
      "Done chunk 240\n",
      "Done chunk 260\n",
      "Done chunk 280\n"
     ]
    }
   ],
   "source": [
    "import math\n",
    "output_file = '../data/pp-complete-with-uprn.csv'\n",
    "chunksize=100000\n",
    "columns = ['id', 'price', 'date', 'postcode', 'property_type', 'old_new', 'duration', 'paon', 'saon', 'street', 'locality', 'town', 'district', 'county', 'ppd_category', 'record_status']\n",
    "i = 0\n",
    "with open(output_file, 'w') as f:\n",
    "    f.write(','.join(columns + ['uprn', 'parentuprn', 'usrn']) + '\\n')\n",
    "for chunk in pd.read_csv('../data/pp-complete.csv', chunksize=chunksize, header=0, names=columns):\n",
    "        df = chunk\n",
    "        df['date'] = pd.to_datetime(df.date).apply(lambda x: x.date())\n",
    "        merged = df.merge(transaction_to_uprn_lookup, how='inner', left_on='id', right_on='transactionid').drop(columns='transactionid')\n",
    "        merged.to_csv(output_file, mode=\"a\", header=False, index=False)\n",
    "        if i % 20 == 0:\n",
    "            print(\"Done chunk {0}\".format(i))\n",
    "        i += 1"
   ]
  },
  {
   "cell_type": "code",
   "execution_count": 6,
   "id": "eef1d489",
   "metadata": {},
   "outputs": [
    {
     "name": "stderr",
     "output_type": "stream",
     "text": [
      "/var/folders/jr/scz17gjs3zd226jcsn8k38480000gn/T/ipykernel_12113/1284509313.py:1: DtypeWarning: Columns (0) have mixed types. Specify dtype option on import or set low_memory=False.\n",
      "  to_filter_with = pd.read_csv('../data/uprns_of_interest.csv', index_col=None)\n"
     ]
    },
    {
     "data": {
      "text/html": [
       "<div>\n",
       "<style scoped>\n",
       "    .dataframe tbody tr th:only-of-type {\n",
       "        vertical-align: middle;\n",
       "    }\n",
       "\n",
       "    .dataframe tbody tr th {\n",
       "        vertical-align: top;\n",
       "    }\n",
       "\n",
       "    .dataframe thead th {\n",
       "        text-align: right;\n",
       "    }\n",
       "</style>\n",
       "<table border=\"1\" class=\"dataframe\">\n",
       "  <thead>\n",
       "    <tr style=\"text-align: right;\">\n",
       "      <th></th>\n",
       "      <th>CHRISTCHURCH AND POOLE\"</th>\n",
       "    </tr>\n",
       "  </thead>\n",
       "  <tbody>\n",
       "    <tr>\n",
       "      <th>0</th>\n",
       "      <td>1000</td>\n",
       "    </tr>\n",
       "    <tr>\n",
       "      <th>1</th>\n",
       "      <td>100000000027</td>\n",
       "    </tr>\n",
       "    <tr>\n",
       "      <th>2</th>\n",
       "      <td>100000000028</td>\n",
       "    </tr>\n",
       "    <tr>\n",
       "      <th>3</th>\n",
       "      <td>100000000031</td>\n",
       "    </tr>\n",
       "    <tr>\n",
       "      <th>4</th>\n",
       "      <td>100000000032</td>\n",
       "    </tr>\n",
       "  </tbody>\n",
       "</table>\n",
       "</div>"
      ],
      "text/plain": [
       "   CHRISTCHURCH AND POOLE\"\n",
       "0                     1000\n",
       "1             100000000027\n",
       "2             100000000028\n",
       "3             100000000031\n",
       "4             100000000032"
      ]
     },
     "execution_count": 6,
     "metadata": {},
     "output_type": "execute_result"
    }
   ],
   "source": [
    "to_filter_with = pd.read_csv('../data/uprns_of_interest.csv', index_col=None)\n",
    "to_filter_with.head()"
   ]
  },
  {
   "cell_type": "code",
   "execution_count": 7,
   "id": "d512c8b9",
   "metadata": {},
   "outputs": [],
   "source": [
    "to_filter_with.columns = ['uprn']"
   ]
  },
  {
   "cell_type": "code",
   "execution_count": 8,
   "id": "9e2750e4",
   "metadata": {},
   "outputs": [
    {
     "name": "stdout",
     "output_type": "stream",
     "text": [
      "Done chunk 0\n",
      "Done chunk 20\n",
      "Done chunk 40\n",
      "Done chunk 60\n",
      "Done chunk 80\n",
      "Done chunk 100\n",
      "Done chunk 120\n",
      "Done chunk 140\n",
      "Done chunk 160\n",
      "Done chunk 180\n",
      "Done chunk 200\n",
      "Done chunk 220\n",
      "Done chunk 240\n",
      "Done chunk 260\n",
      "Done chunk 280\n",
      "Done chunk 300\n",
      "Done chunk 320\n",
      "Done chunk 340\n",
      "Done chunk 360\n",
      "Done chunk 380\n",
      "Done chunk 400\n"
     ]
    }
   ],
   "source": [
    "import math\n",
    "output_file = '../data/filtered_osopenuprn.csv'\n",
    "chunksize=100000\n",
    "input_columns = ['uprn', 'x_coord', 'y_coord', 'lat', 'lon']\n",
    "i = 0\n",
    "with open(output_file, 'w') as f:\n",
    "    f.write(','.join(input_columns) + '\\n')\n",
    "for chunk in pd.read_csv('../data/osopenuprn_202310.csv', chunksize=chunksize, header=0, names=input_columns):\n",
    "        df = chunk\n",
    "        merged = to_filter_with.merge(df, how='inner', on='uprn')\n",
    "        merged.to_csv(output_file, mode=\"a\", index=False, header=False)\n",
    "        if i % 20 == 0:\n",
    "            print(\"Done chunk {0}\".format(i))\n",
    "        i += 1"
   ]
  },
  {
   "cell_type": "code",
   "execution_count": 9,
   "id": "bfb2a343",
   "metadata": {},
   "outputs": [],
   "source": [
    "del transaction_to_uprn_lookup\n",
    "del to_filter_with"
   ]
  },
  {
   "cell_type": "code",
   "execution_count": 10,
   "id": "b00f2dc1",
   "metadata": {},
   "outputs": [
    {
     "data": {
      "text/html": [
       "<div>\n",
       "<style scoped>\n",
       "    .dataframe tbody tr th:only-of-type {\n",
       "        vertical-align: middle;\n",
       "    }\n",
       "\n",
       "    .dataframe tbody tr th {\n",
       "        vertical-align: top;\n",
       "    }\n",
       "\n",
       "    .dataframe thead th {\n",
       "        text-align: right;\n",
       "    }\n",
       "</style>\n",
       "<table border=\"1\" class=\"dataframe\">\n",
       "  <thead>\n",
       "    <tr style=\"text-align: right;\">\n",
       "      <th></th>\n",
       "      <th>uprn</th>\n",
       "      <th>x_coord</th>\n",
       "      <th>y_coord</th>\n",
       "      <th>lat</th>\n",
       "      <th>lon</th>\n",
       "    </tr>\n",
       "  </thead>\n",
       "  <tbody>\n",
       "    <tr>\n",
       "      <th>0</th>\n",
       "      <td>1000</td>\n",
       "      <td>358574.0</td>\n",
       "      <td>179525.0</td>\n",
       "      <td>51.513120</td>\n",
       "      <td>-2.598358</td>\n",
       "    </tr>\n",
       "    <tr>\n",
       "      <th>1</th>\n",
       "      <td>100003</td>\n",
       "      <td>361077.0</td>\n",
       "      <td>173226.0</td>\n",
       "      <td>51.456664</td>\n",
       "      <td>-2.561593</td>\n",
       "    </tr>\n",
       "    <tr>\n",
       "      <th>2</th>\n",
       "      <td>100007</td>\n",
       "      <td>361333.0</td>\n",
       "      <td>173225.0</td>\n",
       "      <td>51.456673</td>\n",
       "      <td>-2.557909</td>\n",
       "    </tr>\n",
       "    <tr>\n",
       "      <th>3</th>\n",
       "      <td>10001</td>\n",
       "      <td>354146.0</td>\n",
       "      <td>178238.0</td>\n",
       "      <td>51.501206</td>\n",
       "      <td>-2.661996</td>\n",
       "    </tr>\n",
       "    <tr>\n",
       "      <th>4</th>\n",
       "      <td>100012</td>\n",
       "      <td>361250.0</td>\n",
       "      <td>173225.0</td>\n",
       "      <td>51.456667</td>\n",
       "      <td>-2.559103</td>\n",
       "    </tr>\n",
       "  </tbody>\n",
       "</table>\n",
       "</div>"
      ],
      "text/plain": [
       "     uprn   x_coord   y_coord        lat       lon\n",
       "0    1000  358574.0  179525.0  51.513120 -2.598358\n",
       "1  100003  361077.0  173226.0  51.456664 -2.561593\n",
       "2  100007  361333.0  173225.0  51.456673 -2.557909\n",
       "3   10001  354146.0  178238.0  51.501206 -2.661996\n",
       "4  100012  361250.0  173225.0  51.456667 -2.559103"
      ]
     },
     "execution_count": 10,
     "metadata": {},
     "output_type": "execute_result"
    }
   ],
   "source": [
    "kept_lookup = pd.read_csv('../data/filtered_osopenuprn.csv', index_col=None)\n",
    "kept_lookup.head()"
   ]
  },
  {
   "cell_type": "code",
   "execution_count": 11,
   "id": "d861c5bf",
   "metadata": {},
   "outputs": [
    {
     "data": {
      "text/html": [
       "<div>\n",
       "<style scoped>\n",
       "    .dataframe tbody tr th:only-of-type {\n",
       "        vertical-align: middle;\n",
       "    }\n",
       "\n",
       "    .dataframe tbody tr th {\n",
       "        vertical-align: top;\n",
       "    }\n",
       "\n",
       "    .dataframe thead th {\n",
       "        text-align: right;\n",
       "    }\n",
       "</style>\n",
       "<table border=\"1\" class=\"dataframe\">\n",
       "  <thead>\n",
       "    <tr style=\"text-align: right;\">\n",
       "      <th></th>\n",
       "      <th>uprn</th>\n",
       "      <th>x_coord</th>\n",
       "      <th>y_coord</th>\n",
       "      <th>lat</th>\n",
       "      <th>lon</th>\n",
       "    </tr>\n",
       "  </thead>\n",
       "  <tbody>\n",
       "  </tbody>\n",
       "</table>\n",
       "</div>"
      ],
      "text/plain": [
       "Empty DataFrame\n",
       "Columns: [uprn, x_coord, y_coord, lat, lon]\n",
       "Index: []"
      ]
     },
     "execution_count": 11,
     "metadata": {},
     "output_type": "execute_result"
    }
   ],
   "source": [
    "merged.head()"
   ]
  },
  {
   "cell_type": "code",
   "execution_count": 12,
   "id": "6b88ec86",
   "metadata": {},
   "outputs": [
    {
     "name": "stdout",
     "output_type": "stream",
     "text": [
      "Done chunk 0\n",
      "Done chunk 20\n",
      "Done chunk 40\n",
      "Done chunk 60\n",
      "Done chunk 80\n",
      "Done chunk 100\n",
      "Done chunk 120\n",
      "Done chunk 140\n",
      "Done chunk 160\n",
      "Done chunk 180\n",
      "Done chunk 200\n",
      "Done chunk 220\n",
      "Done chunk 240\n"
     ]
    }
   ],
   "source": [
    "import math\n",
    "output_file = '../data/pp-complete-with-location.csv'\n",
    "chunksize=100000\n",
    "input_columns = ['uprn', 'x_coord', 'y_coord', 'lat', 'lon']\n",
    "columns = ['id', 'price', 'date', 'postcode', 'property_type', 'old_new', 'duration', 'paon', 'saon', 'street', 'locality', 'town', 'district', 'county', 'ppd_category', 'record_status', 'uprn','parentuprn','usrn']\n",
    "i = 0\n",
    "with open(output_file, 'w') as f:\n",
    "    f.write(','.join(columns + ['x_coord', 'y_coord', 'lat', 'lon']) + '\\n')\n",
    "for chunk in pd.read_csv('../data/pp-complete-with-uprn.csv', chunksize=chunksize, header=0, names=columns):\n",
    "        df = chunk\n",
    "        merged = df.merge(kept_lookup, how='inner', on='uprn')\n",
    "        merged.to_csv(output_file, mode=\"a\", index=False, header=False)\n",
    "        if i % 20 == 0:\n",
    "            print(\"Done chunk {0}\".format(i))\n",
    "        i += 1"
   ]
  },
  {
   "cell_type": "code",
   "execution_count": null,
   "id": "dcf92ecf-8f2f-4532-889a-4706f6387fd1",
   "metadata": {},
   "outputs": [],
   "source": []
  }
 ],
 "metadata": {
  "kernelspec": {
   "display_name": "Python 3 (ipykernel)",
   "language": "python",
   "name": "python3"
  },
  "language_info": {
   "codemirror_mode": {
    "name": "ipython",
    "version": 3
   },
   "file_extension": ".py",
   "mimetype": "text/x-python",
   "name": "python",
   "nbconvert_exporter": "python",
   "pygments_lexer": "ipython3",
   "version": "3.11.6"
  }
 },
 "nbformat": 4,
 "nbformat_minor": 5
}
